{
 "cells": [
  {
   "cell_type": "code",
   "execution_count": 1,
   "id": "c652c838-d214-4d73-92c4-ec76d3ef5e52",
   "metadata": {},
   "outputs": [
    {
     "name": "stdout",
     "output_type": "stream",
     "text": [
      "Requirement already satisfied: scikit-learn in c:\\users\\neeth\\anaconda3\\lib\\site-packages (1.5.1)\n",
      "Requirement already satisfied: pandas in c:\\users\\neeth\\anaconda3\\lib\\site-packages (2.2.2)\n",
      "Requirement already satisfied: numpy in c:\\users\\neeth\\anaconda3\\lib\\site-packages (1.26.4)\n",
      "Requirement already satisfied: scipy>=1.6.0 in c:\\users\\neeth\\anaconda3\\lib\\site-packages (from scikit-learn) (1.13.1)\n",
      "Requirement already satisfied: joblib>=1.2.0 in c:\\users\\neeth\\anaconda3\\lib\\site-packages (from scikit-learn) (1.4.2)\n",
      "Requirement already satisfied: threadpoolctl>=3.1.0 in c:\\users\\neeth\\anaconda3\\lib\\site-packages (from scikit-learn) (3.5.0)\n",
      "Requirement already satisfied: python-dateutil>=2.8.2 in c:\\users\\neeth\\anaconda3\\lib\\site-packages (from pandas) (2.9.0.post0)\n",
      "Requirement already satisfied: pytz>=2020.1 in c:\\users\\neeth\\anaconda3\\lib\\site-packages (from pandas) (2024.1)\n",
      "Requirement already satisfied: tzdata>=2022.7 in c:\\users\\neeth\\anaconda3\\lib\\site-packages (from pandas) (2023.3)\n",
      "Requirement already satisfied: six>=1.5 in c:\\users\\neeth\\anaconda3\\lib\\site-packages (from python-dateutil>=2.8.2->pandas) (1.16.0)\n",
      "Note: you may need to restart the kernel to use updated packages.\n"
     ]
    }
   ],
   "source": [
    "pip install scikit-learn pandas numpy\n"
   ]
  },
  {
   "cell_type": "code",
   "execution_count": 14,
   "id": "bfddb9a9-643d-4df3-ba2e-b884ca94e61b",
   "metadata": {},
   "outputs": [],
   "source": [
    "# Importing necessary libraries\n",
    "from sklearn.datasets import fetch_california_housing\n",
    "import pandas as pd\n",
    "from sklearn.model_selection import train_test_split\n",
    "from sklearn.preprocessing import StandardScaler\n",
    "from sklearn.linear_model import LinearRegression\n",
    "from sklearn.tree import DecisionTreeRegressor\n",
    "from sklearn.ensemble import RandomForestRegressor, GradientBoostingRegressor\n",
    "from sklearn.svm import SVR\n",
    "from sklearn.metrics import mean_squared_error, mean_absolute_error, r2_score\n",
    "import numpy as np\n",
    "import matplotlib.pyplot as plt"
   ]
  },
  {
   "cell_type": "code",
   "execution_count": 16,
   "id": "15170085-2c50-4c36-bcd9-0a83b45a2f25",
   "metadata": {},
   "outputs": [
    {
     "name": "stdout",
     "output_type": "stream",
     "text": [
      "   MedInc  HouseAge  AveRooms  AveBedrms  Population  AveOccup  Latitude  \\\n",
      "0  8.3252      41.0  6.984127   1.023810       322.0  2.555556     37.88   \n",
      "1  8.3014      21.0  6.238137   0.971880      2401.0  2.109842     37.86   \n",
      "2  7.2574      52.0  8.288136   1.073446       496.0  2.802260     37.85   \n",
      "3  5.6431      52.0  5.817352   1.073059       558.0  2.547945     37.85   \n",
      "4  3.8462      52.0  6.281853   1.081081       565.0  2.181467     37.85   \n",
      "\n",
      "   Longitude  MedHouseVal  \n",
      "0    -122.23        4.526  \n",
      "1    -122.22        3.585  \n",
      "2    -122.24        3.521  \n",
      "3    -122.25        3.413  \n",
      "4    -122.25        3.422  \n",
      "Missing values:\n",
      " MedInc         0\n",
      "HouseAge       0\n",
      "AveRooms       0\n",
      "AveBedrms      0\n",
      "Population     0\n",
      "AveOccup       0\n",
      "Latitude       0\n",
      "Longitude      0\n",
      "MedHouseVal    0\n",
      "dtype: int64\n",
      "Training data shape: (16512, 8)\n",
      "Test data shape: (4128, 8)\n"
     ]
    }
   ],
   "source": [
    "# Load the California Housing dataset\n",
    "data = fetch_california_housing(as_frame=True)\n",
    "df = data.frame  # Convert to pandas DataFrame\n",
    "\n",
    "# Display the first 5 rows to understand the dataset\n",
    "print(df.head())\n",
    "\n",
    "# Check for missing values\n",
    "print(\"Missing values:\\n\", df.isnull().sum())\n",
    "\n",
    "# Feature scaling\n",
    "scaler = StandardScaler()\n",
    "X = scaler.fit_transform(df.drop('MedHouseVal', axis=1))  # Features\n",
    "y = df['MedHouseVal']  # Target variable\n",
    "\n",
    "# Split data into training and test sets (80-20 split)\n",
    "X_train, X_test, y_train, y_test = train_test_split(X, y, test_size=0.2, random_state=42)\n",
    "\n",
    "print(f\"Training data shape: {X_train.shape}\")\n",
    "print(f\"Test data shape: {X_test.shape}\")\n"
   ]
  },
  {
   "cell_type": "code",
   "execution_count": 18,
   "id": "2849d741-a176-425e-aa9e-61c07c292c1f",
   "metadata": {},
   "outputs": [
    {
     "name": "stdout",
     "output_type": "stream",
     "text": [
      "Linear Regression Performance:\n",
      "Mean Squared Error: 0.5559\n",
      "Mean Absolute Error: 0.5332\n",
      "R-squared Score: 0.5758\n"
     ]
    }
   ],
   "source": [
    "from sklearn.linear_model import LinearRegression\n",
    "from sklearn.metrics import mean_squared_error, mean_absolute_error, r2_score\n",
    "\n",
    "# Initialize and train Linear Regression model\n",
    "linear_model = LinearRegression()\n",
    "linear_model.fit(X_train, y_train)\n",
    "\n",
    "# Make predictions\n",
    "y_pred_lr = linear_model.predict(X_test)\n",
    "\n",
    "# Evaluate performance\n",
    "mse_lr = mean_squared_error(y_test, y_pred_lr)\n",
    "mae_lr = mean_absolute_error(y_test, y_pred_lr)\n",
    "r2_lr = r2_score(y_test, y_pred_lr)\n",
    "\n",
    "print(\"Linear Regression Performance:\")\n",
    "print(f\"Mean Squared Error: {mse_lr:.4f}\")\n",
    "print(f\"Mean Absolute Error: {mae_lr:.4f}\")\n",
    "print(f\"R-squared Score: {r2_lr:.4f}\")\n"
   ]
  },
  {
   "cell_type": "code",
   "execution_count": 20,
   "id": "32f78b2d-d1ed-440f-9c52-9dcf0a282502",
   "metadata": {},
   "outputs": [
    {
     "name": "stdout",
     "output_type": "stream",
     "text": [
      "\n",
      "Decision Tree Regressor Performance:\n",
      "Mean Squared Error: 0.4943\n",
      "Mean Absolute Error: 0.4538\n",
      "R-squared Score: 0.6228\n"
     ]
    }
   ],
   "source": [
    "from sklearn.tree import DecisionTreeRegressor\n",
    "\n",
    "# Initialize and train Decision Tree Regressor\n",
    "dt_model = DecisionTreeRegressor(random_state=42)\n",
    "dt_model.fit(X_train, y_train)\n",
    "\n",
    "# Make predictions\n",
    "y_pred_dt = dt_model.predict(X_test)\n",
    "\n",
    "# Evaluate performance\n",
    "mse_dt = mean_squared_error(y_test, y_pred_dt)\n",
    "mae_dt = mean_absolute_error(y_test, y_pred_dt)\n",
    "r2_dt = r2_score(y_test, y_pred_dt)\n",
    "\n",
    "print(\"\\nDecision Tree Regressor Performance:\")\n",
    "print(f\"Mean Squared Error: {mse_dt:.4f}\")\n",
    "print(f\"Mean Absolute Error: {mae_dt:.4f}\")\n",
    "print(f\"R-squared Score: {r2_dt:.4f}\")\n"
   ]
  },
  {
   "cell_type": "code",
   "execution_count": 22,
   "id": "7327d3b0-7362-42a2-b597-6560ef6fb424",
   "metadata": {},
   "outputs": [
    {
     "name": "stdout",
     "output_type": "stream",
     "text": [
      "\n",
      "Random Forest Regressor Performance:\n",
      "Mean Squared Error: 0.2555\n",
      "Mean Absolute Error: 0.3276\n",
      "R-squared Score: 0.8050\n"
     ]
    }
   ],
   "source": [
    "from sklearn.ensemble import RandomForestRegressor\n",
    "\n",
    "# Initialize and train Random Forest Regressor\n",
    "rf_model = RandomForestRegressor(random_state=42, n_estimators=100)\n",
    "rf_model.fit(X_train, y_train)\n",
    "\n",
    "# Make predictions\n",
    "y_pred_rf = rf_model.predict(X_test)\n",
    "\n",
    "# Evaluate performance\n",
    "mse_rf = mean_squared_error(y_test, y_pred_rf)\n",
    "mae_rf = mean_absolute_error(y_test, y_pred_rf)\n",
    "r2_rf = r2_score(y_test, y_pred_rf)\n",
    "\n",
    "print(\"\\nRandom Forest Regressor Performance:\")\n",
    "print(f\"Mean Squared Error: {mse_rf:.4f}\")\n",
    "print(f\"Mean Absolute Error: {mae_rf:.4f}\")\n",
    "print(f\"R-squared Score: {r2_rf:.4f}\")\n"
   ]
  },
  {
   "cell_type": "code",
   "execution_count": 24,
   "id": "fe785cec-7f61-4615-a5fb-7e7991657ec7",
   "metadata": {},
   "outputs": [
    {
     "name": "stdout",
     "output_type": "stream",
     "text": [
      "\n",
      "Gradient Boosting Regressor Performance:\n",
      "Mean Squared Error: 0.2940\n",
      "Mean Absolute Error: 0.3717\n",
      "R-squared Score: 0.7756\n"
     ]
    }
   ],
   "source": [
    "from sklearn.ensemble import GradientBoostingRegressor\n",
    "\n",
    "# Initialize and train Gradient Boosting Regressor\n",
    "gb_model = GradientBoostingRegressor(random_state=42, n_estimators=100, learning_rate=0.1)\n",
    "gb_model.fit(X_train, y_train)\n",
    "\n",
    "# Make predictions\n",
    "y_pred_gb = gb_model.predict(X_test)\n",
    "\n",
    "# Evaluate performance\n",
    "mse_gb = mean_squared_error(y_test, y_pred_gb)\n",
    "mae_gb = mean_absolute_error(y_test, y_pred_gb)\n",
    "r2_gb = r2_score(y_test, y_pred_gb)\n",
    "\n",
    "print(\"\\nGradient Boosting Regressor Performance:\")\n",
    "print(f\"Mean Squared Error: {mse_gb:.4f}\")\n",
    "print(f\"Mean Absolute Error: {mae_gb:.4f}\")\n",
    "print(f\"R-squared Score: {r2_gb:.4f}\")\n"
   ]
  },
  {
   "cell_type": "code",
   "execution_count": 26,
   "id": "aa74a7d1-243b-45a6-806d-834ec6339f0f",
   "metadata": {},
   "outputs": [
    {
     "name": "stdout",
     "output_type": "stream",
     "text": [
      "\n",
      "Support Vector Regressor Performance:\n",
      "Mean Squared Error: 0.3552\n",
      "Mean Absolute Error: 0.3978\n",
      "R-squared Score: 0.7289\n"
     ]
    }
   ],
   "source": [
    "from sklearn.svm import SVR\n",
    "\n",
    "# Initialize and train Support Vector Regressor\n",
    "svr_model = SVR(kernel='rbf', C=1.0, epsilon=0.1)\n",
    "svr_model.fit(X_train, y_train)\n",
    "\n",
    "# Make predictions\n",
    "y_pred_svr = svr_model.predict(X_test)\n",
    "\n",
    "# Evaluate performance\n",
    "mse_svr = mean_squared_error(y_test, y_pred_svr)\n",
    "mae_svr = mean_absolute_error(y_test, y_pred_svr)\n",
    "r2_svr = r2_score(y_test, y_pred_svr)\n",
    "\n",
    "print(\"\\nSupport Vector Regressor Performance:\")\n",
    "print(f\"Mean Squared Error: {mse_svr:.4f}\")\n",
    "print(f\"Mean Absolute Error: {mae_svr:.4f}\")\n",
    "print(f\"R-squared Score: {r2_svr:.4f}\")\n"
   ]
  },
  {
   "cell_type": "code",
   "execution_count": 28,
   "id": "ea73e3f3-20ae-48f7-9475-46074b3129dc",
   "metadata": {},
   "outputs": [
    {
     "name": "stdout",
     "output_type": "stream",
     "text": [
      "Linear Regression Performance:\n",
      "Mean Squared Error: 0.5559\n",
      "Mean Absolute Error: 0.5332\n",
      "R-squared Score: 0.5758\n",
      "\n",
      "Decision Tree Performance:\n",
      "Mean Squared Error: 0.4943\n",
      "Mean Absolute Error: 0.4538\n",
      "R-squared Score: 0.6228\n",
      "\n",
      "Random Forest Performance:\n",
      "Mean Squared Error: 0.2555\n",
      "Mean Absolute Error: 0.3276\n",
      "R-squared Score: 0.8050\n",
      "\n",
      "Gradient Boosting Performance:\n",
      "Mean Squared Error: 0.2940\n",
      "Mean Absolute Error: 0.3717\n",
      "R-squared Score: 0.7756\n",
      "\n",
      "Support Vector Regressor Performance:\n",
      "Mean Squared Error: 0.3552\n",
      "Mean Absolute Error: 0.3978\n",
      "R-squared Score: 0.7289\n",
      "\n"
     ]
    }
   ],
   "source": [
    "# Function to calculate and display evaluation metrics\n",
    "def evaluate_model(y_test, y_pred, model_name):\n",
    "    mse = mean_squared_error(y_test, y_pred)\n",
    "    mae = mean_absolute_error(y_test, y_pred)\n",
    "    r2 = r2_score(y_test, y_pred)\n",
    "    print(f\"{model_name} Performance:\")\n",
    "    print(f\"Mean Squared Error: {mse:.4f}\")\n",
    "    print(f\"Mean Absolute Error: {mae:.4f}\")\n",
    "    print(f\"R-squared Score: {r2:.4f}\\n\")\n",
    "    return mse, mae, r2\n",
    "\n",
    "# Evaluate all models\n",
    "results = {}\n",
    "results['Linear Regression'] = evaluate_model(y_test, y_pred_lr, \"Linear Regression\")\n",
    "results['Decision Tree'] = evaluate_model(y_test, y_pred_dt, \"Decision Tree\")\n",
    "results['Random Forest'] = evaluate_model(y_test, y_pred_rf, \"Random Forest\")\n",
    "results['Gradient Boosting'] = evaluate_model(y_test, y_pred_gb, \"Gradient Boosting\")\n",
    "results['Support Vector Regressor'] = evaluate_model(y_test, y_pred_svr, \"Support Vector Regressor\")\n"
   ]
  },
  {
   "cell_type": "code",
   "execution_count": 30,
   "id": "e609c66a-aca5-4590-80eb-a171eab90758",
   "metadata": {},
   "outputs": [
    {
     "name": "stdout",
     "output_type": "stream",
     "text": [
      "                               MSE       MAE  R-squared\n",
      "Linear Regression         0.555892  0.533200   0.575788\n",
      "Decision Tree             0.494272  0.453784   0.622811\n",
      "Random Forest             0.255498  0.327613   0.805024\n",
      "Gradient Boosting         0.293999  0.371650   0.775643\n",
      "Support Vector Regressor  0.355198  0.397763   0.728941\n",
      "Best-performing model: Random Forest\n",
      "Worst-performing model: Linear Regression\n"
     ]
    }
   ],
   "source": [
    "# Compare results and identify the best and worst-performing models\n",
    "comparison_df = pd.DataFrame(results, index=['MSE', 'MAE', 'R-squared']).T\n",
    "print(comparison_df)\n",
    "\n",
    "# Highlight the best and worst models\n",
    "best_model = comparison_df['R-squared'].idxmax()\n",
    "worst_model = comparison_df['R-squared'].idxmin()\n",
    "print(f\"Best-performing model: {best_model}\")\n",
    "print(f\"Worst-performing model: {worst_model}\")\n"
   ]
  },
  {
   "cell_type": "code",
   "execution_count": null,
   "id": "387e5e9f-853d-4791-90ea-f5085e0a491a",
   "metadata": {},
   "outputs": [],
   "source": []
  }
 ],
 "metadata": {
  "kernelspec": {
   "display_name": "Python 3 (ipykernel)",
   "language": "python",
   "name": "python3"
  },
  "language_info": {
   "codemirror_mode": {
    "name": "ipython",
    "version": 3
   },
   "file_extension": ".py",
   "mimetype": "text/x-python",
   "name": "python",
   "nbconvert_exporter": "python",
   "pygments_lexer": "ipython3",
   "version": "3.12.7"
  }
 },
 "nbformat": 4,
 "nbformat_minor": 5
}
